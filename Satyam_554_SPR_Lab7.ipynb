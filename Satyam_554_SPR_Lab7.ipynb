{
  "nbformat": 4,
  "nbformat_minor": 0,
  "metadata": {
    "colab": {
      "provenance": [],
      "include_colab_link": true
    },
    "kernelspec": {
      "name": "python3",
      "display_name": "Python 3"
    },
    "language_info": {
      "name": "python"
    }
  },
  "cells": [
    {
      "cell_type": "markdown",
      "metadata": {
        "id": "view-in-github",
        "colab_type": "text"
      },
      "source": [
        "<a href=\"https://colab.research.google.com/github/SJhawar1010/Speech-Processing/blob/main/Satyam_554_SPR_Lab7.ipynb\" target=\"_parent\"><img src=\"https://colab.research.google.com/assets/colab-badge.svg\" alt=\"Open In Colab\"/></a>"
      ]
    },
    {
      "cell_type": "markdown",
      "source": [
        "# Hidden Markov Model (HMM) for Phoneme Transitions in the Word \"Speech\"\n",
        "\n",
        "In this lab experiment, we implement a Hidden Markov Model (HMM) to simulate phoneme transitions for the word **\"speech\"** in speech processing. The word \"speech\" is divided into the following phonemes (hidden states):\n",
        "\n",
        "- **/s/**\n",
        "- **/p/**\n",
        "- **/ie:/** (long ee)\n",
        "- **/tS/** (ch sound)\n",
        "\n",
        "**Observations** represent measurable acoustic properties such as **energy**, **pitch**, and **duration**.\n",
        "\n",
        "The HMM is defined by the following parameters:\n",
        "- **Initial Probabilities**: The probability of starting with a particular phoneme.\n",
        "- **Transition Probabilities**: The probability of transitioning from one phoneme to another.\n",
        "- **Emission Probabilities**: The probability of emitting an observation given a phoneme.\n",
        "\n",
        "Let's proceed with the implementation step by step."
      ],
      "metadata": {
        "id": "FdsdD5B-8CC_"
      }
    },
    {
      "cell_type": "markdown",
      "source": [
        "### (a) Represent the HMM parameters (initial probabilities, transition probabiliities, and emission probabilities) using suitable data structures in Python.\n",
        "\n"
      ],
      "metadata": {
        "id": "MnCupul4_yC-"
      }
    },
    {
      "cell_type": "code",
      "execution_count": 1,
      "metadata": {
        "colab": {
          "base_uri": "https://localhost:8080/"
        },
        "id": "2Sz90yr58BB5",
        "outputId": "121ea753-5ca5-4b12-8321-b6e6d187d52c"
      },
      "outputs": [
        {
          "output_type": "stream",
          "name": "stdout",
          "text": [
            "Initial Probabilities: {'/s/': 1.0, '/p/': 0.0, '/ie:/': 0.0, '/tS/': 0.0}\n",
            "\n",
            "Transition Probabilities: {'/s/': {'/s/': 0.1, '/p/': 0.8, '/ie:/': 0.1, '/tS/': 0.0}, '/p/': {'/s/': 0.0, '/p/': 0.1, '/ie:/': 0.8, '/tS/': 0.1}, '/ie:/': {'/s/': 0.0, '/p/': 0.0, '/ie:/': 0.2, '/tS/': 0.8}, '/tS/': {'/s/': 0.2, '/p/': 0.0, '/ie:/': 0.0, '/tS/': 0.8}}\n",
            "\n",
            "Emission Probabilities: {'/s/': {'Energy': 0.7, 'Pitch': 0.2, 'Duration': 0.1}, '/p/': {'Energy': 0.5, 'Pitch': 0.3, 'Duration': 0.2}, '/ie:/': {'Energy': 0.3, 'Pitch': 0.5, 'Duration': 0.2}, '/tS/': {'Energy': 0.4, 'Pitch': 0.4, 'Duration': 0.2}}\n"
          ]
        }
      ],
      "source": [
        "states = ['/s/', '/p/', '/ie:/', '/tS/']\n",
        "observations = ['Energy', 'Pitch', 'Duration']\n",
        "\n",
        "initial_prob = {\n",
        "    '/s/': 1.0,\n",
        "    '/p/': 0.0,\n",
        "    '/ie:/': 0.0,\n",
        "    '/tS/': 0.0\n",
        "}\n",
        "\n",
        "transition_prob = {\n",
        "    '/s/': {'/s/': 0.1, '/p/': 0.8, '/ie:/': 0.1, '/tS/': 0.0},\n",
        "    '/p/': {'/s/': 0.0, '/p/': 0.1, '/ie:/': 0.8, '/tS/': 0.1},\n",
        "    '/ie:/': {'/s/': 0.0, '/p/': 0.0, '/ie:/': 0.2, '/tS/': 0.8},\n",
        "    '/tS/': {'/s/': 0.2, '/p/': 0.0, '/ie:/': 0.0, '/tS/': 0.8}\n",
        "}\n",
        "\n",
        "emission_prob = {\n",
        "    '/s/': {'Energy': 0.7, 'Pitch': 0.2, 'Duration': 0.1},\n",
        "    '/p/': {'Energy': 0.5, 'Pitch': 0.3, 'Duration': 0.2},\n",
        "    '/ie:/': {'Energy': 0.3, 'Pitch': 0.5, 'Duration': 0.2},\n",
        "    '/tS/': {'Energy': 0.4, 'Pitch': 0.4, 'Duration': 0.2}\n",
        "}\n",
        "\n",
        "print(\"Initial Probabilities:\", initial_prob)\n",
        "print(\"\\nTransition Probabilities:\", transition_prob)\n",
        "print(\"\\nEmission Probabilities:\", emission_prob)"
      ]
    },
    {
      "cell_type": "markdown",
      "source": [
        "### Explanation\n",
        "\n",
        "- **States**: Represent the phonemes in the word \"speech\".\n",
        "- **Observations**: Acoustic properties measurable during speech.\n",
        "- **Initial Probabilities**: Only `/s/` has a probability of 1.0 to start the word.\n",
        "- **Transition Probabilities**: Define how likely it is to move from one phoneme to another.\n",
        "- **Emission Probabilities**: Define the likelihood of observing a particular acoustic property given a phoneme.\n",
        "\n",
        "These parameters are represented using Python dictionaries for easy access and manipulation."
      ],
      "metadata": {
        "id": "dqQCpyXS8GaU"
      }
    },
    {
      "cell_type": "markdown",
      "source": [
        "### (b) Write a function to neatly display the transition and emission matrices along with the initial probabilities."
      ],
      "metadata": {
        "id": "6xTc9ZX-Asaj"
      }
    },
    {
      "cell_type": "code",
      "source": [
        "import pandas as pd\n",
        "\n",
        "def display_hmm(initial_prob, transition_prob, emission_prob):\n",
        "    print(\"Initial Probabilities:\")\n",
        "    init_df = pd.DataFrame(list(initial_prob.items()), columns=['Phoneme', 'Probability'])\n",
        "    print(init_df.to_string(index=False))\n",
        "    print(\"\\nTransition Probabilities:\")\n",
        "    trans_df = pd.DataFrame(transition_prob).T\n",
        "    print(trans_df.to_string())\n",
        "    print(\"\\nEmission Probabilities:\")\n",
        "    emit_df = pd.DataFrame(emission_prob).T\n",
        "    print(emit_df.to_string())\n",
        "\n",
        "display_hmm(initial_prob, transition_prob, emission_prob)"
      ],
      "metadata": {
        "colab": {
          "base_uri": "https://localhost:8080/"
        },
        "id": "iG_5Updm8EjZ",
        "outputId": "a9b4fa41-3545-4735-f41f-7ba054e9d1cf"
      },
      "execution_count": 2,
      "outputs": [
        {
          "output_type": "stream",
          "name": "stdout",
          "text": [
            "Initial Probabilities:\n",
            "Phoneme  Probability\n",
            "    /s/          1.0\n",
            "    /p/          0.0\n",
            "  /ie:/          0.0\n",
            "   /tS/          0.0\n",
            "\n",
            "Transition Probabilities:\n",
            "       /s/  /p/  /ie:/  /tS/\n",
            "/s/    0.1  0.8    0.1   0.0\n",
            "/p/    0.0  0.1    0.8   0.1\n",
            "/ie:/  0.0  0.0    0.2   0.8\n",
            "/tS/   0.2  0.0    0.0   0.8\n",
            "\n",
            "Emission Probabilities:\n",
            "       Energy  Pitch  Duration\n",
            "/s/       0.7    0.2       0.1\n",
            "/p/       0.5    0.3       0.2\n",
            "/ie:/     0.3    0.5       0.2\n",
            "/tS/      0.4    0.4       0.2\n"
          ]
        }
      ]
    },
    {
      "cell_type": "markdown",
      "source": [
        "### Display Function\n",
        "\n",
        "The `display_hmm` function utilizes Pandas DataFrames to neatly display the initial, transition, and emission probabilities. This enhances readability and provides a clear overview of the HMM parameters."
      ],
      "metadata": {
        "id": "oa2Cpygq8KLz"
      }
    },
    {
      "cell_type": "markdown",
      "source": [
        "### (c) Write a program to generate a single sequence of phonemes and corresponding acoustic observations for the word speech based on the defined probabilities."
      ],
      "metadata": {
        "id": "jASyBxD2BAwQ"
      }
    },
    {
      "cell_type": "code",
      "source": [
        "import numpy as np\n",
        "\n",
        "def generate_sequence(initial_prob, transition_prob, emission_prob, observations, length=4):\n",
        "    state_sequence = []\n",
        "    observation_sequence = []\n",
        "\n",
        "    current_state = np.random.choice(list(initial_prob.keys()), p=list(initial_prob.values()))\n",
        "    state_sequence.append(current_state)\n",
        "\n",
        "    obs = np.random.choice(observations, p=list(emission_prob[current_state].values()))\n",
        "    observation_sequence.append(obs)\n",
        "\n",
        "    for _ in range(1, length):\n",
        "        current_transition_probs = transition_prob[current_state]\n",
        "        next_state = np.random.choice(list(current_transition_probs.keys()), p=list(current_transition_probs.values()))\n",
        "        state_sequence.append(next_state)\n",
        "\n",
        "        obs = np.random.choice(observations, p=list(emission_prob[next_state].values()))\n",
        "        observation_sequence.append(obs)\n",
        "\n",
        "        current_state = next_state\n",
        "\n",
        "    return state_sequence, observation_sequence\n",
        "\n",
        "phoneme_seq, observation_seq = generate_sequence(initial_prob, transition_prob, emission_prob, observations, length=4)\n",
        "\n",
        "print(\"Generated Phoneme Sequence:\", phoneme_seq)\n",
        "print(\"Corresponding Observations:\", observation_seq)"
      ],
      "metadata": {
        "colab": {
          "base_uri": "https://localhost:8080/"
        },
        "id": "z6MBILL48Iuv",
        "outputId": "cb8be1ae-0626-4049-c76b-a1ff86d6f19b"
      },
      "execution_count": 3,
      "outputs": [
        {
          "output_type": "stream",
          "name": "stdout",
          "text": [
            "Generated Phoneme Sequence: ['/s/', '/s/', '/p/', '/ie:/']\n",
            "Corresponding Observations: ['Energy', 'Energy', 'Pitch', 'Energy']\n"
          ]
        }
      ]
    },
    {
      "cell_type": "markdown",
      "source": [
        "### Sequence Generation\n",
        "\n",
        "The `generate_sequence` function simulates the process of phoneme transitions and corresponding acoustic observations:\n",
        "\n",
        "1. **Initialization**: Starts with the initial phoneme based on the initial probabilities.\n",
        "2. **State Transition**: At each step, transitions to the next phoneme based on the transition probabilities.\n",
        "3. **Emission**: For each phoneme, an observation is emitted based on the emission probabilities.\n",
        "\n",
        "This simulation helps in understanding how phonemes and observations evolve in the HMM framework."
      ],
      "metadata": {
        "id": "sP_wj42D8NgB"
      }
    },
    {
      "cell_type": "markdown",
      "source": [
        "### (d) Write an inference for the above HMM implementation"
      ],
      "metadata": {
        "id": "L6KbVOebCj3i"
      }
    },
    {
      "cell_type": "code",
      "source": [
        "def viterbi(observations_seq, states, initial_prob, transition_prob, emission_prob):\n",
        "    V = [{}]\n",
        "    path = {}\n",
        "\n",
        "    for state in states:\n",
        "        V[0][state] = initial_prob[state] * emission_prob[state][observations_seq[0]]\n",
        "        path[state] = [state]\n",
        "\n",
        "    for t in range(1, len(observations_seq)):\n",
        "        V.append({})\n",
        "        new_path = {}\n",
        "\n",
        "        for current_state in states:\n",
        "            (prob, state_max) = max(\n",
        "                [(V[t-1][prev_state] * transition_prob[prev_state][current_state] * emission_prob[current_state][observations_seq[t]], prev_state)\n",
        "                 for prev_state in states],\n",
        "                key=lambda x: x[0]\n",
        "            )\n",
        "            V[t][current_state] = prob\n",
        "            new_path[current_state] = path[state_max] + [current_state]\n",
        "\n",
        "        path = new_path\n",
        "\n",
        "    n = len(observations_seq) - 1\n",
        "    (prob, state_max) = max([(V[n][state], state) for state in states], key=lambda x: x[0])\n",
        "    return path[state_max], prob\n",
        "\n",
        "example_observations = ['Energy', 'Pitch', 'Duration', 'Energy']\n",
        "\n",
        "most_probable_path, probability = viterbi(example_observations, states, initial_prob, transition_prob, emission_prob)\n",
        "\n",
        "print(\"Most Probable Phoneme Sequence:\", most_probable_path)\n",
        "print(\"Probability of the Sequence:\", probability)"
      ],
      "metadata": {
        "colab": {
          "base_uri": "https://localhost:8080/"
        },
        "id": "-HPbN1n48MED",
        "outputId": "f4c879e6-d2d5-466f-919b-a0cd6f22035f"
      },
      "execution_count": 4,
      "outputs": [
        {
          "output_type": "stream",
          "name": "stdout",
          "text": [
            "Most Probable Phoneme Sequence: ['/s/', '/p/', '/ie:/', '/tS/']\n",
            "Probability of the Sequence: 0.008601600000000001\n"
          ]
        }
      ]
    },
    {
      "cell_type": "markdown",
      "source": [
        "### Inference using Viterbi Algorithm\n",
        "\n",
        "The **Viterbi Algorithm** is used to find the most probable sequence of hidden states (phonemes) that results in a sequence of observed events (acoustic properties).\n",
        "\n",
        "**Steps Involved**:\n",
        "\n",
        "1. **Initialization**: Calculate the initial probabilities for each state.\n",
        "2. **Recursion**: For each subsequent observation, calculate the probability of each state by considering all possible transitions from the previous states.\n",
        "3. **Termination**: Identify the state with the highest probability at the final step.\n",
        "4. **Path Backtracking**: Trace back the path that led to the highest probability.\n",
        "\n",
        "In this implementation, given an observation sequence, the Viterbi algorithm determines the most probable sequence of phonemes that could have generated those observations."
      ],
      "metadata": {
        "id": "eZuZReWe8ROf"
      }
    },
    {
      "cell_type": "markdown",
      "source": [
        "### Visualization of Transition and Emission Probabilities"
      ],
      "metadata": {
        "id": "i75UjMltCu98"
      }
    },
    {
      "cell_type": "code",
      "source": [
        "import seaborn as sns\n",
        "import matplotlib.pyplot as plt\n",
        "\n",
        "def plot_matrices(transition_prob, emission_prob):\n",
        "    trans_df = pd.DataFrame(transition_prob).T\n",
        "    plt.figure(figsize=(8,6))\n",
        "    sns.heatmap(trans_df, annot=True, cmap='Blues')\n",
        "    plt.title('Transition Probabilities')\n",
        "    plt.ylabel('From State')\n",
        "    plt.xlabel('To State')\n",
        "    plt.show()\n",
        "\n",
        "    emit_df = pd.DataFrame(emission_prob).T\n",
        "    plt.figure(figsize=(8,6))\n",
        "    sns.heatmap(emit_df, annot=True, cmap='Greens')\n",
        "    plt.title('Emission Probabilities')\n",
        "    plt.ylabel('Phoneme')\n",
        "    plt.xlabel('Observation')\n",
        "    plt.show()\n",
        "\n",
        "plot_matrices(transition_prob, emission_prob)"
      ],
      "metadata": {
        "colab": {
          "base_uri": "https://localhost:8080/",
          "height": 1000
        },
        "id": "akrRO_m28PbJ",
        "outputId": "ea8c33f6-4ee5-4820-b3e4-fb64747281f4"
      },
      "execution_count": 5,
      "outputs": [
        {
          "output_type": "display_data",
          "data": {
            "text/plain": [
              "<Figure size 800x600 with 2 Axes>"
            ],
            "image/png": "[encoded data removed]"
          },
          "metadata": {}
        },
        {
          "output_type": "display_data",
          "data": {
            "text/plain": [
              "<Figure size 800x600 with 2 Axes>"
            ],
            "image/png": "[encoded data removed]"
          },
          "metadata": {}
        }
      ]
    },
    {
      "cell_type": "markdown",
      "source": [
        "### Visualizations\n",
        "\n",
        "**Heatmaps** are used to visualize the transition and emission probabilities:\n",
        "\n",
        "- **Transition Probabilities Heatmap**: Shows the likelihood of transitioning from one phoneme to another.\n",
        "- **Emission Probabilities Heatmap**: Displays the probability of emitting a particular observation given a phoneme.\n",
        "\n",
        "These visualizations aid in comprehending the relationships and probabilities within the HMM."
      ],
      "metadata": {
        "id": "Jz-_scuv8V3M"
      }
    },
    {
      "cell_type": "code",
      "source": [
        "np.random.seed(33)\n",
        "\n",
        "phoneme_seq, observation_seq = generate_sequence(initial_prob, transition_prob, emission_prob, observations, length=4)\n",
        "\n",
        "print(\"Generated Phoneme Sequence:\", phoneme_seq)\n",
        "print(\"Corresponding Observations:\", observation_seq)"
      ],
      "metadata": {
        "colab": {
          "base_uri": "https://localhost:8080/"
        },
        "id": "mfHSqSXc8TOm",
        "outputId": "4a73ea2d-e13b-4f9b-9fea-2e796656f942"
      },
      "execution_count": 6,
      "outputs": [
        {
          "output_type": "stream",
          "name": "stdout",
          "text": [
            "Generated Phoneme Sequence: ['/s/', '/p/', '/ie:/', '/ie:/']\n",
            "Corresponding Observations: ['Energy', 'Energy', 'Energy', 'Duration']\n"
          ]
        }
      ]
    },
    {
      "cell_type": "markdown",
      "source": [
        "### Expected Output Alignment\n",
        "\n",
        "By setting a random seed, we ensure reproducibility of the generated sequence. An example output might be:\n",
        "\n",
        "- Generated Phoneme Sequence: ['/s/', '/p/', '/ie:/', '/tS/']\n",
        "- Corresponding Observations: ['Energy', 'Energy', 'Energy', 'Duration']\n",
        "\n",
        "\n",
        "This aligns with the expected phoneme sequence for the word \"speech\"."
      ],
      "metadata": {
        "id": "wnsENMHQ8aTk"
      }
    }
  ]
}